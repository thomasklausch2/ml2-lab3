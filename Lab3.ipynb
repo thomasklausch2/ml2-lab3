{
 "cells": [
  {
   "cell_type": "markdown",
   "metadata": {},
   "source": [
    "# Lab 3: EM and VAE\n",
    "\n",
    "### Machine Learning 2 (2016/2017)\n",
    "\n",
    "* The lab exercises should be made in groups of two people or individually.\n",
    "* The hand-in deadline is Wednesday, May 24, 23:59.\n",
    "* Assignment should be sent to p.j.j.p.versteeg@uva.nl. The subject line of your email should be \"[ML2_2017] lab#_lastname1\\_lastname2\". \n",
    "* Put your and your teammates' names in the body of the email\n",
    "* Attach the .IPYNB (IPython Notebook) file containing your code and answers. Naming of the file follows the same rule as the subject line. For example, if the subject line is \"[ML2_2017] lab02\\_Bongers\\_Blom\", the attached file should be \"lab02\\_Bongers\\_Blom.ipynb\". Only use underscores (\"\\_\") to connect names, otherwise the files cannot be parsed.\n",
    "\n",
    "Notes on implementation:\n",
    "\n",
    "* You should write your code and answers in an IPython Notebook: http://ipython.org/notebook.html. If you have problems, please ask or e-mail Philip.\n",
    "* Among the first lines of your notebook should be \"%pylab inline\". This imports all required modules, and your plots will appear inline.\n",
    "* NOTE: test your code and make sure we can run your notebook / scripts before you send them!\n",
    "\n",
    "$\\newcommand{\\bx}{\\mathbf{x}} \\newcommand{\\bpi}{\\mathbf{\\pi}} \\newcommand{\\bmu}{\\mathbf{\\mu}} \\newcommand{\\bX}{\\mathbf{X}} \\newcommand{\\bZ}{\\mathbf{Z}} \\newcommand{\\bz}{\\mathbf{z}}$"
   ]
  },
  {
   "cell_type": "markdown",
   "metadata": {},
   "source": [
    "### MNIST data\n",
    "\n",
    "In this Lab we will use several methods for unsupervised learning on the MNIST dataset of written digits. The dataset contains digital images of handwritten numbers $0$ through $9$. Each image has 28x28 pixels that each take 256 values in a range from white ($= 0$) to  black ($=1$). The labels belonging to the images are also included."
   ]
  },
  {
   "cell_type": "code",
   "execution_count": 5,
   "metadata": {
    "collapsed": false
   },
   "outputs": [
    {
     "name": "stdout",
     "output_type": "stream",
     "text": [
      "Populating the interactive namespace from numpy and matplotlib\n"
     ]
    }
   ],
   "source": [
    "%pylab inline\n",
    "import gzip\n",
    "import _pickle as cPickle\n",
    "import numpy as np\n",
    "from numpy.linalg import inv\n",
    "import matplotlib.pyplot as plt"
   ]
  },
  {
   "cell_type": "code",
   "execution_count": 6,
   "metadata": {
    "collapsed": false
   },
   "outputs": [],
   "source": [
    "# load data\n",
    "with gzip.open('mnist_small.gz', 'r') as f:\n",
    "    mnist_images, mnist_labels = cPickle.load(f, encoding = 'latin')\n",
    "\n",
    "#mnist_dim = (28, 28)\n",
    "# print \"MNIST data loaded;\", \" number of samples:\", len(mnist_labels), \\ \n",
    "#      '; number of pixels per sample:', mnist_dim[0], 'x', mnist_dim[1]"
   ]
  },
  {
   "cell_type": "markdown",
   "metadata": {},
   "source": [
    "## Part 1: Expectation Maximization\n",
    "We use the Expectation Maximization (EM) algorithm for the recognition of handwritten digits in the MNIST dataset. The images are modelled as a Bernoulli mixture model (see Bishop $\\S9.3.3$):\n",
    "$$\n",
    "p(\\bx|\\bmu, \\bpi) = \\sum_{k=1}^K  \\pi_k \\prod_{i=1}^D \\mu_{ki}^{x_i}(1-\\mu_{ki})^{(1-x_i)}\n",
    "$$\n",
    "where $x_i$ is the value of pixel $i$ in an image, $\\mu_{ki}$ represents the probability that pixel $i$ in class $k$ is black, and $\\{\\pi_1, \\ldots, \\pi_K\\}$ are the mixing coefficients of classes in the data. We want to use this data set to classify new images of handwritten numbers."
   ]
  },
  {
   "cell_type": "markdown",
   "metadata": {},
   "source": [
    "### 1.1 Binary data (5)\n",
    "As we like to apply our Bernoulli mixture model, convert the MNIST data to binary images, where each pixel $x_i \\in \\{0,1\\}$, by thresholding the dataset at an appropriate level. Sample a few images of digits $2$, $3$ and $4$; and show both the original and the binarized image together with their label."
   ]
  },
  {
   "cell_type": "code",
   "execution_count": 7,
   "metadata": {
    "collapsed": false
   },
   "outputs": [],
   "source": [
    "# From ML1 lab 2, as discussed it's okay to use it\n",
    "def plot_digits(data, numcols, shape=(28,28)):\n",
    "    numdigits = data.shape[0]\n",
    "    numrows = int(numdigits/numcols)\n",
    "    for i in range(numdigits):\n",
    "        plt.subplot(numrows, numcols, (i+1))\n",
    "        plt.axis('off')\n",
    "        plt.imshow(data[i].reshape(shape), interpolation='nearest', cmap='Greys')\n",
    "    plt.show()"
   ]
  },
  {
   "cell_type": "code",
   "execution_count": 8,
   "metadata": {
    "collapsed": false
   },
   "outputs": [],
   "source": [
    "binary = np.zeros(mnist_images.shape)\n",
    "for i in range(mnist_images.shape[0]):\n",
    "    v = mnist_images[i,:] > .5\n",
    "    binary[i,:] = [int(n) for n in v]\n"
   ]
  },
  {
   "cell_type": "code",
   "execution_count": 14,
   "metadata": {
    "collapsed": false
   },
   "outputs": [
    {
     "data": {
      "image/png": "[encoded data removed]",
      "text/plain": [
       "<matplotlib.figure.Figure at 0xe47a208>"
      ]
     },
     "metadata": {},
     "output_type": "display_data"
    },
    {
     "data": {
      "image/png": "[encoded data removed]",
      "text/plain": [
       "<matplotlib.figure.Figure at 0xe47a668>"
      ]
     },
     "metadata": {},
     "output_type": "display_data"
    },
    {
     "ename": "AttributeError",
     "evalue": "module 'matplotlib.pyplot' has no attribute 'clear'",
     "output_type": "error",
     "traceback": [
      "\u001b[1;31m---------------------------------------------------------------------------\u001b[0m",
      "\u001b[1;31mAttributeError\u001b[0m                            Traceback (most recent call last)",
      "\u001b[1;32m<ipython-input-14-6727f8cdc082>\u001b[0m in \u001b[0;36m<module>\u001b[1;34m()\u001b[0m\n\u001b[0;32m      1\u001b[0m \u001b[0mplot_digits\u001b[0m\u001b[1;33m(\u001b[0m\u001b[0mmnist_images\u001b[0m\u001b[1;33m[\u001b[0m\u001b[1;36m0\u001b[0m\u001b[1;33m:\u001b[0m\u001b[1;36m8\u001b[0m\u001b[1;33m]\u001b[0m\u001b[1;33m,\u001b[0m\u001b[1;36m4\u001b[0m\u001b[1;33m)\u001b[0m\u001b[1;33m\u001b[0m\u001b[0m\n\u001b[0;32m      2\u001b[0m \u001b[0mplot_digits\u001b[0m\u001b[1;33m(\u001b[0m\u001b[0mbinary\u001b[0m\u001b[1;33m[\u001b[0m\u001b[1;36m0\u001b[0m\u001b[1;33m:\u001b[0m\u001b[1;36m8\u001b[0m\u001b[1;33m]\u001b[0m\u001b[1;33m,\u001b[0m\u001b[1;36m4\u001b[0m\u001b[1;33m)\u001b[0m\u001b[1;33m\u001b[0m\u001b[0m\n\u001b[1;32m----> 3\u001b[1;33m \u001b[0mplt\u001b[0m\u001b[1;33m.\u001b[0m\u001b[0mclear\u001b[0m\u001b[1;33m(\u001b[0m\u001b[1;33m)\u001b[0m\u001b[1;33m\u001b[0m\u001b[0m\n\u001b[0m",
      "\u001b[1;31mAttributeError\u001b[0m: module 'matplotlib.pyplot' has no attribute 'clear'"
     ]
    }
   ],
   "source": [
    "plot_digits(mnist_images[0:8],4)\n",
    "plot_digits(binary[0:8],4)\n",
    "plt.clear()"
   ]
  },
  {
   "cell_type": "code",
   "execution_count": null,
   "metadata": {
    "collapsed": true
   },
   "outputs": [],
   "source": []
  },
  {
   "cell_type": "markdown",
   "metadata": {},
   "source": [
    "### 1.2 Implementation (40)\n",
    "Write a function ```EM(batch, K, max_iter)``` that implements the EM algorithm on the Bernoulli mixture model. \n",
    "\n",
    "The only parameters your function should have are:\n",
    "* ```batch``` :: input training images\n",
    "* ```K``` :: size of the latent space\n",
    "* ```max_iter``` :: maximum number of iterations, i.e. one E-step and one M-step\n",
    "\n",
    "You are free to specify your return statement.\n",
    "\n",
    "Make sure you use a sensible way of terminating the iteration process early to prevent unnecessarily running through all epochs. Vectorize equations in ```numpy``` as  much as possible and clearly comment in your code where the E-step and where the M-step are performed."
   ]
  },
  {
   "cell_type": "code",
   "execution_count": 7,
   "metadata": {
    "collapsed": false
   },
   "outputs": [],
   "source": [
    "def P_xn_muk ( x, mu_par, n):\n",
    "    return np.prod ( ((mu_par ** x[n] ) * (1 - mu_par) ** (1-  x[n]) ) , 1) "
   ]
  },
  {
   "cell_type": "code",
   "execution_count": 8,
   "metadata": {
    "collapsed": false
   },
   "outputs": [],
   "source": [
    "def logL (x, mu_par, pi_par):\n",
    "    S = 0\n",
    "    for n in range(x.shape[0]):\n",
    "        S = S + np.log (sum (pi_par * P_xn_muk ( x = x, mu_par = mu_par, n=n )) )\n",
    "    return S"
   ]
  },
  {
   "cell_type": "code",
   "execution_count": 9,
   "metadata": {
    "collapsed": false
   },
   "outputs": [],
   "source": [
    "def up_gamma (x, mu_par, pi_par):\n",
    "    n = x.shape[0]\n",
    "    k = mu_par.shape[0]\n",
    "    gamma = np.zeros([n,k])\n",
    "    for i in range(n):\n",
    "        p = P_xn_muk(x = x , mu_par = mu_par, n = i)\n",
    "        gamma_n = p * pi_par / sum(p * pi_par)\n",
    "        gamma[i,:]= gamma_n\n",
    "    return gamma"
   ]
  },
  {
   "cell_type": "code",
   "execution_count": 10,
   "metadata": {
    "collapsed": false
   },
   "outputs": [],
   "source": [
    "def up_pi (gamma_znk_par):\n",
    "    N_k = np.sum(gamma_znk_par,0)\n",
    "    N   = sum(N_k)\n",
    "    return N_k / N, N_k"
   ]
  },
  {
   "cell_type": "code",
   "execution_count": 11,
   "metadata": {
    "collapsed": false
   },
   "outputs": [],
   "source": [
    "def up_muk (x, N_k_par, gamma_par):\n",
    "    return np.matrix.transpose(1/N_k_par * (np.dot (np.matrix.transpose(x) , gamma_par)))"
   ]
  },
  {
   "cell_type": "code",
   "execution_count": 12,
   "metadata": {
    "collapsed": false
   },
   "outputs": [],
   "source": [
    "def EM(batch, K, max_iter):\n",
    "    x = batch\n",
    "    #Initialize\n",
    "    threshold = 0.000001 # maximum LL change for convergence\n",
    "    D       = x.shape[1]\n",
    "    mu      = np.random.uniform(.4,.6, size =  K*D ).reshape(K,D)\n",
    "    pis      = 1/K * np.ones( K )\n",
    "    # Calculate starting LL\n",
    "    LL      = logL(x = x, mu_par = mu, pi_par = pis)\n",
    "    # Start iterative EM optimization\n",
    "    i       = 0\n",
    "    epsilon = 1\n",
    "    while( epsilon > threshold and max_iter > i):\n",
    "        i   = i+1\n",
    "        # E-step\n",
    "        gamma_znk = up_gamma(x = x, mu_par = mu, pi_par = pis)\n",
    "        # M-step\n",
    "        pis, N_k   = up_pi(gamma_znk_par = gamma_znk)\n",
    "        mu        = up_muk(x = x, N_k_par = N_k, gamma_par = gamma_znk)\n",
    "        # Re-evaluate \n",
    "        LL_old    = LL\n",
    "        LL        = logL(x = x, mu_par = mu, pi_par = pis)\n",
    "        epsilon   = np.absolute(LL - LL_old)\n",
    "        if( (i / 10).is_integer() ):\n",
    "            print(\"Run \", i, \"; Log-likelihood is \", LL)          \n",
    "                         \n",
    "    return pis, mu, gamma_znk, LL, i\n",
    "    \n"
   ]
  },
  {
   "cell_type": "code",
   "execution_count": 13,
   "metadata": {
    "collapsed": false
   },
   "outputs": [],
   "source": [
    "#n = 1000\n",
    "#pi_out, mu_out, LL_out, iterations = EM(batch = binary[np.random.randint(0,5000,n)], K = 10, max_iter = 1000)\n",
    "\n",
    "#pi_out, mu_out, LL_out, iterations = EM(batch = binary[np.random.choice(np.arange(0,5001,1),size=n, replace=False)],\n",
    "#                                        K = 10, max_iter = 1000)\n",
    "#pi_out"
   ]
  },
  {
   "cell_type": "code",
   "execution_count": 14,
   "metadata": {
    "collapsed": false
   },
   "outputs": [],
   "source": [
    "#plot_digits(mu_out[0:10,:], numcols=5)"
   ]
  },
  {
   "cell_type": "code",
   "execution_count": null,
   "metadata": {
    "collapsed": false
   },
   "outputs": [],
   "source": []
  },
  {
   "cell_type": "markdown",
   "metadata": {},
   "source": [
    "### 1.2 Three digits test (10)\n",
    "In analogue with Bishop $\\S9.3.3$, sample a training set consisting of only __binary__ images of written digits $2$, $3$, and $4$. Run your EM algorithm and show the reconstructed digits. What are the identified mixing coefficients, and how do these compare to the true ones?"
   ]
  },
  {
   "cell_type": "code",
   "execution_count": 15,
   "metadata": {
    "collapsed": false
   },
   "outputs": [],
   "source": [
    "digitlist = np.array([i==2 or i==3 or i==4 for i in mnist_labels])\n",
    "subset_binary = binary[digitlist]\n",
    "subset_labels = mnist_labels[digitlist]"
   ]
  },
  {
   "cell_type": "code",
   "execution_count": 21,
   "metadata": {
    "collapsed": false
   },
   "outputs": [
    {
     "name": "stdout",
     "output_type": "stream",
     "text": [
      "Run  10 ; Log-likelihood is  -187066.68067\n",
      "Run  20 ; Log-likelihood is  -187010.097359\n",
      "Run  30 ; Log-likelihood is  -186918.143342\n",
      "Run  40 ; Log-likelihood is  -186873.615547\n",
      "Run  50 ; Log-likelihood is  -186695.527706\n",
      "Run  60 ; Log-likelihood is  -186629.740267\n",
      "Run  70 ; Log-likelihood is  -186613.969871\n",
      "Run  80 ; Log-likelihood is  -186610.576538\n"
     ]
    },
    {
     "data": {
      "image/png": "[encoded data removed]",
      "text/plain": [
       "<matplotlib.figure.Figure at 0xe3d6f28>"
      ]
     },
     "metadata": {},
     "output_type": "display_data"
    }
   ],
   "source": [
    "n = 1000\n",
    "choice=np.random.choice(np.arange(0,subset_binary.shape[0],1),size=n, replace=False)\n",
    "sample_subset_binary = subset_binary[choice]\n",
    "sample_subset_labels = subset_labels[choice]\n",
    "pi_out, mu_out, gamma_out, LL_out, iterations = EM(batch = sample_subset_binary, K = 3, max_iter = 1000)\n",
    "plot_digits(mu_out, numcols=3)"
   ]
  },
  {
   "cell_type": "code",
   "execution_count": 22,
   "metadata": {
    "collapsed": false
   },
   "outputs": [],
   "source": [
    "true_pi = np.array([sum(sample_subset_labels == 2), sum(sample_subset_labels == 3), sum(sample_subset_labels  == 4)])/ sample_subset_labels.shape[0]"
   ]
  },
  {
   "cell_type": "code",
   "execution_count": 23,
   "metadata": {
    "collapsed": false
   },
   "outputs": [
    {
     "name": "stdout",
     "output_type": "stream",
     "text": [
      "Estimated mixing coefficients:  [ 0.302  0.349  0.349]\n",
      "True mixing coefficients:  [ 0.352  0.309  0.339]\n"
     ]
    }
   ],
   "source": [
    "print(\"Estimated mixing coefficients: \", np.round(pi_out,3))\n",
    "print(\"True mixing coefficients: \", np.round(true_pi,3))"
   ]
  },
  {
   "cell_type": "markdown",
   "metadata": {},
   "source": [
    "**Answer** The mixing coefficients are roughly the same, each taking up about 1/3 of the sample. However, depending on the random set of samples (and its size) the Bernoulli Mixture Model sometimes can have larger  numbers of mis-classified samples leading to some $\\pi_k$ close to .50 or .20 and further away from the true coefficients."
   ]
  },
  {
   "cell_type": "markdown",
   "metadata": {},
   "source": [
    "### 1.3 More experiments (20)\n",
    "Perform the follow-up experiments listed below using your implementation of the EM algorithm. For each of these, describe/comment on the obtained results and give an explanation.\n",
    "\n",
    "* __1.3.1__\n",
    "    Use with more or less classes for $K$.\n",
    "* __1.3.2__ \n",
    "    Use the image labels in ```mnist_labels``` to identify some misclassified images and see if you understand why.\n",
    "* __1.3.3__ \n",
    "    Initialize the three classes with the true values of the parameters and see what happens."
   ]
  },
  {
   "cell_type": "markdown",
   "metadata": {
    "collapsed": true
   },
   "source": [
    "**1.3.1: Optimizing over increasing number of classes K**"
   ]
  },
  {
   "cell_type": "markdown",
   "metadata": {},
   "source": [
    "** Answer ** Increasing the number of classes $K$ generally increases the flexibility of the model, and thus increases the maximum log likelihood (see Figure below). One may choose a number of classes $K$ beyond which the log-likelihood does not increase \"steeply\" anymore. In the experiment below, interestingly, the normatively \"correct\" number of classes ($K=3$) is certainly not at a point where $K$ does not increase steeply anymore. The graph shows that the best choice of number of classes may be rather 5 or perhaps 7, as afterwards the log-likelihood increases only marginally. This finding reflects that allowing for an additional class still allows the model to accomodate an additional new writing style at these numbers, but not many more distinct styles are expectable beyond these (although the log-likelihood will continue to increase).\n",
    "\n",
    "To understand the writing styles in more detail, one may look at the plots of the coefficients for different $K$ (see also below). We see that for $K>2$ the three numbers are always identified and that for higher numbers slightly different varieties in writing style are learnt. For example, the number 2 can be written with a curved ending or straight. Also the lower part of the three shows differences and the vertical alignment of the 4 can be slightly sloped or straight.\n",
    "\n",
    "\n"
   ]
  },
  {
   "cell_type": "code",
   "execution_count": 64,
   "metadata": {
    "collapsed": false
   },
   "outputs": [
    {
     "name": "stdout",
     "output_type": "stream",
     "text": [
      "Run  10 ; Log-likelihood is  -388842.50646\n",
      "Run  20 ; Log-likelihood is  -385691.195718\n",
      "Run  10 ; Log-likelihood is  -379630.505562\n",
      "Run  20 ; Log-likelihood is  -378205.351139\n",
      "Run  30 ; Log-likelihood is  -378145.413883\n",
      "Run  10 ; Log-likelihood is  -361256.057576\n",
      "Run  20 ; Log-likelihood is  -360687.255346\n",
      "Run  30 ; Log-likelihood is  -360577.88714\n",
      "Run  40 ; Log-likelihood is  -360577.04242\n",
      "Run  10 ; Log-likelihood is  -356847.30708\n",
      "Run  20 ; Log-likelihood is  -355360.499866\n",
      "Run  30 ; Log-likelihood is  -353413.377844\n",
      "Run  40 ; Log-likelihood is  -353158.222111\n",
      "Run  50 ; Log-likelihood is  -352935.027578\n",
      "Run  60 ; Log-likelihood is  -352769.042677\n",
      "Run  70 ; Log-likelihood is  -352690.970003\n",
      "Run  80 ; Log-likelihood is  -352686.98954\n",
      "Run  90 ; Log-likelihood is  -352686.960808\n",
      "Run  100 ; Log-likelihood is  -352686.960599\n",
      "Run  10 ; Log-likelihood is  -353355.354907\n",
      "Run  20 ; Log-likelihood is  -352463.841273\n",
      "Run  30 ; Log-likelihood is  -352206.522693\n",
      "Run  40 ; Log-likelihood is  -352201.907309\n",
      "Run  10 ; Log-likelihood is  -340041.908253\n",
      "Run  20 ; Log-likelihood is  -339517.420886\n",
      "Run  30 ; Log-likelihood is  -339352.76327\n",
      "Run  40 ; Log-likelihood is  -339333.109337\n",
      "Run  10 ; Log-likelihood is  -335551.468859\n",
      "Run  20 ; Log-likelihood is  -335077.168428\n",
      "Run  30 ; Log-likelihood is  -335010.447899\n",
      "Run  40 ; Log-likelihood is  -334998.418952\n",
      "Run  10 ; Log-likelihood is  -334196.461682\n",
      "Run  20 ; Log-likelihood is  -333634.21683\n",
      "Run  30 ; Log-likelihood is  -333532.616293\n",
      "Run  40 ; Log-likelihood is  -333355.476766\n",
      "Run  50 ; Log-likelihood is  -333353.827466\n",
      "Run  60 ; Log-likelihood is  -333353.057228\n",
      "Run  70 ; Log-likelihood is  -333353.01396\n",
      "Run  80 ; Log-likelihood is  -333347.5036\n",
      "Run  90 ; Log-likelihood is  -333316.026194\n",
      "Run  100 ; Log-likelihood is  -333283.792465\n",
      "Run  110 ; Log-likelihood is  -333283.428693\n",
      "Run  120 ; Log-likelihood is  -333279.957975\n",
      "Run  130 ; Log-likelihood is  -333279.904157\n",
      "Run  140 ; Log-likelihood is  -333278.986988\n",
      "Run  150 ; Log-likelihood is  -333092.892644\n",
      "Run  160 ; Log-likelihood is  -333080.232892\n",
      "Run  170 ; Log-likelihood is  -333076.968201\n",
      "Run  180 ; Log-likelihood is  -333076.887224\n",
      "Run  190 ; Log-likelihood is  -333076.695298\n",
      "Run  200 ; Log-likelihood is  -333069.9449\n",
      "Run  10 ; Log-likelihood is  -332094.12228\n",
      "Run  20 ; Log-likelihood is  -331353.740698\n",
      "Run  30 ; Log-likelihood is  -330895.572015\n",
      "Run  40 ; Log-likelihood is  -330880.559673\n",
      "Run  50 ; Log-likelihood is  -330867.197496\n"
     ]
    }
   ],
   "source": [
    "n = 2000\n",
    "K_max = 10\n",
    "choice=np.random.choice(np.arange(0,subset_binary.shape[0],1),size=n, replace=True)\n",
    "sample_subset_binary = subset_binary[choice]\n",
    "sample_subset_labels = subset_labels[choice]\n",
    "\n",
    "pis = []\n",
    "mus = []\n",
    "LLs = []\n",
    "for i in range(2,K_max+1) :\n",
    "    pi_out, mu_out, gamma_out, LL_out, iterations = EM(batch = sample_subset_binary, K = i, max_iter = 1000)\n",
    "    pis.append(pi_out)\n",
    "    mus.append(mu_out)\n",
    "    LLs.append(LL_out)"
   ]
  },
  {
   "cell_type": "code",
   "execution_count": 65,
   "metadata": {
    "collapsed": false
   },
   "outputs": [
    {
     "data": {
      "text/plain": [
       "<function matplotlib.pyplot.show>"
      ]
     },
     "execution_count": 65,
     "metadata": {},
     "output_type": "execute_result"
    },
    {
     "data": {
      "image/png": "[encoded data removed]",
      "text/plain": [
       "<matplotlib.figure.Figure at 0xf2b6da0>"
      ]
     },
     "metadata": {},
     "output_type": "display_data"
    }
   ],
   "source": [
    "plt.plot( np.arange(2,K_max+1), LLs)\n",
    "plt.ylabel('Log Likelihood')\n",
    "plt.xlabel('Number of classes (K)')\n",
    "plt.show"
   ]
  },
  {
   "cell_type": "code",
   "execution_count": 66,
   "metadata": {
    "collapsed": false
   },
   "outputs": [
    {
     "name": "stdout",
     "output_type": "stream",
     "text": [
      "K = 2\n"
     ]
    },
    {
     "data": {
      "image/png": "[encoded data removed]",
      "text/plain": [
       "<matplotlib.figure.Figure at 0xf2ea908>"
      ]
     },
     "metadata": {},
     "output_type": "display_data"
    },
    {
     "name": "stdout",
     "output_type": "stream",
     "text": [
      "K = 3\n"
     ]
    },
    {
     "data": {
      "image/png": "[encoded data removed]",
      "text/plain": [
       "<matplotlib.figure.Figure at 0xe3a1f60>"
      ]
     },
     "metadata": {},
     "output_type": "display_data"
    },
    {
     "name": "stdout",
     "output_type": "stream",
     "text": [
      "K = 4\n"
     ]
    },
    {
     "data": {
      "image/png": "[encoded data removed]",
      "text/plain": [
       "<matplotlib.figure.Figure at 0xe7fb630>"
      ]
     },
     "metadata": {},
     "output_type": "display_data"
    },
    {
     "name": "stdout",
     "output_type": "stream",
     "text": [
      "K = 5\n"
     ]
    },
    {
     "data": {
      "image/png": "[encoded data removed]",
      "text/plain": [
       "<matplotlib.figure.Figure at 0xf9d1400>"
      ]
     },
     "metadata": {},
     "output_type": "display_data"
    },
    {
     "name": "stdout",
     "output_type": "stream",
     "text": [
      "K = 6\n"
     ]
    },
    {
     "data": {
      "image/png": "[encoded data removed]",
      "text/plain": [
       "<matplotlib.figure.Figure at 0xe46add8>"
      ]
     },
     "metadata": {},
     "output_type": "display_data"
    },
    {
     "name": "stdout",
     "output_type": "stream",
     "text": [
      "K = 7\n"
     ]
    },
    {
     "data": {
      "image/png": "[encoded data removed]",
      "text/plain": [
       "<matplotlib.figure.Figure at 0xf2b6320>"
      ]
     },
     "metadata": {},
     "output_type": "display_data"
    },
    {
     "name": "stdout",
     "output_type": "stream",
     "text": [
      "K = 10\n"
     ]
    },
    {
     "data": {
      "image/png": "[encoded data removed]",
      "text/plain": [
       "<matplotlib.figure.Figure at 0xe7e7e80>"
      ]
     },
     "metadata": {},
     "output_type": "display_data"
    }
   ],
   "source": [
    "print(\"K = 2\")\n",
    "plot_digits(mus[0], numcols=2)\n",
    "print(\"K = 3\")\n",
    "plot_digits(mus[1], numcols=3)\n",
    "print(\"K = 4\")\n",
    "plot_digits(mus[2], numcols=4)\n",
    "print(\"K = 5\")\n",
    "plot_digits(mus[3], numcols=5)\n",
    "print(\"K = 6\")\n",
    "plot_digits(mus[4], numcols=6)\n",
    "print(\"K = 7\")\n",
    "plot_digits(mus[5], numcols=7)\n",
    "print(\"K = 10\")\n",
    "plot_digits(mus[8], numcols=5)"
   ]
  },
  {
   "cell_type": "markdown",
   "metadata": {},
   "source": [
    "**1.3.2: Visualizing and interpreting misclassified digits **"
   ]
  },
  {
   "cell_type": "markdown",
   "metadata": {},
   "source": [
    "**Answer:** Below we manually code the numbers into learnt classes (K=3) and then select and plot an example set of misclassified digits. The misclassified numbers are those that are written in a very unusual / ambiguous way. For example, some numbers are squashed together to the center and are even for humans difficult to identify. "
   ]
  },
  {
   "cell_type": "code",
   "execution_count": 31,
   "metadata": {
    "collapsed": false
   },
   "outputs": [
    {
     "name": "stdout",
     "output_type": "stream",
     "text": [
      "Run  10 ; Log-likelihood is  -182889.283506\n",
      "Run  20 ; Log-likelihood is  -182819.036477\n",
      "Run  30 ; Log-likelihood is  -182811.144597\n",
      "Run  40 ; Log-likelihood is  -182811.144335\n"
     ]
    },
    {
     "data": {
      "image/png": "[encoded data removed]",
      "text/plain": [
       "<matplotlib.figure.Figure at 0xf3b3588>"
      ]
     },
     "metadata": {},
     "output_type": "display_data"
    }
   ],
   "source": [
    "n = 1000\n",
    "choice=np.random.choice(np.arange(0,subset_binary.shape[0],1),size=n, replace=False)\n",
    "sample_subset_binary = subset_binary[choice]\n",
    "sample_subset_labels = subset_labels[choice]\n",
    "pi_out, mu_out, gamma_out, LL_out, iterations = EM(batch = sample_subset_binary, K = 3, max_iter = 1000)\n",
    "plot_digits(mu_out, numcols=3)"
   ]
  },
  {
   "cell_type": "code",
   "execution_count": 32,
   "metadata": {
    "collapsed": false
   },
   "outputs": [
    {
     "name": "stdout",
     "output_type": "stream",
     "text": [
      "Misclassification rate  0.148\n",
      "True labels  [3 3 4 3 2 2 3 2 2 2]\n"
     ]
    },
    {
     "data": {
      "image/png": "[encoded data removed]",
      "text/plain": [
       "<matplotlib.figure.Figure at 0xed36ac8>"
      ]
     },
     "metadata": {},
     "output_type": "display_data"
    },
    {
     "name": "stdout",
     "output_type": "stream",
     "text": [
      "Assigned labels  [ 4.  2.  2.  2.  3.  3.  4.  4.  3.  4.]\n"
     ]
    }
   ],
   "source": [
    "max_z = np.argmax(gamma_out,1) \n",
    "# Has to be coded manually depending on outcome of EM\n",
    "def mapping(i):\n",
    "    if i == 0:\n",
    "        return 3\n",
    "    elif i == 1:\n",
    "        return 4\n",
    "    elif i == 2:\n",
    "        return 2\n",
    "    return i\n",
    "\n",
    "rec_max_z = np.zeros(n)\n",
    "for i in range(n):\n",
    "    rec_max_z[i] = mapping(max_z[i])\n",
    "    \n",
    "mis_clas = rec_max_z != sample_subset_labels\n",
    "print(\"Misclassification rate \", sum(mis_clas)/n) #misclssification rate\n",
    "\n",
    "print(\"True labels \", sample_subset_labels[mis_clas == 1][0:10])\n",
    "plot_digits(sample_subset_binary[mis_clas == 1][0:10],5)\n",
    "print(\"Assigned labels \", rec_max_z[mis_clas == 1][0:10])"
   ]
  },
  {
   "cell_type": "markdown",
   "metadata": {},
   "source": [
    "** 1.3.3: Initializing mixing coefficients at true values **"
   ]
  },
  {
   "cell_type": "markdown",
   "metadata": {},
   "source": [
    "** Answer: ** We modified the EM function by allowing for initialization of pi (EM_ini). The standard EM function from above uses a 1/K initialization for all mixture coefficients pi, i.e. equal probability of class membership. For our experiment in the EM_ini function we set pi now equal to the observed sample proportions of the label categories (true_pi). We ran this experiment both with a small sample size (n=300) or a large one (n=3000). The results shown below are for the n=3000 run (we draw samples with replacement here). We find that the log-likelihood and misclassification rates for the two types of initializations are very similar, sometimes the one dominating the other. We notice that in some runs the 1/K can yield outliers with high misclassification rates whereas the true pi initialization is more consistent (arround .10 to .16 misclassified numbers). These results hold for both the high and the low number of samples and show that our initial standard initialization already works very well, probably because in this application the 1/K proportions are very close to the true proportions (see true pi print below). "
   ]
  },
  {
   "cell_type": "code",
   "execution_count": 16,
   "metadata": {
    "collapsed": true
   },
   "outputs": [],
   "source": [
    "def EM_ini(batch, K, max_iter, pis):\n",
    "    x = batch\n",
    "    #Initialize\n",
    "    threshold = 0.000001 # maximum LL change for convergence\n",
    "    D       = x.shape[1]\n",
    "    mu      = np.random.uniform(.4,.6, size =  K*D ).reshape(K,D)\n",
    "    \n",
    "    # Calculate starting LL\n",
    "    LL      = logL(x = x, mu_par = mu, pi_par = pis)\n",
    "    # Start iterative EM optimization\n",
    "    i       = 0\n",
    "    epsilon = 1\n",
    "    while( epsilon > threshold and max_iter > i):\n",
    "        i   = i+1\n",
    "        # E-step\n",
    "        gamma_znk = up_gamma(x = x, mu_par = mu, pi_par = pis)\n",
    "        # M-step\n",
    "        pis, N_k   = up_pi(gamma_znk_par = gamma_znk)\n",
    "        mu        = up_muk(x = x, N_k_par = N_k, gamma_par = gamma_znk)\n",
    "        # Re-evaluate \n",
    "        LL_old    = LL\n",
    "        LL        = logL(x = x, mu_par = mu, pi_par = pis)\n",
    "        epsilon   = np.absolute(LL - LL_old)\n",
    "        if( (i / 10).is_integer() ):\n",
    "            print(\"Run \", i, \"; Log-likelihood is \", LL)          \n",
    "                         \n",
    "    return pis, mu, gamma_znk, LL, i\n",
    "  "
   ]
  },
  {
   "cell_type": "code",
   "execution_count": 52,
   "metadata": {
    "collapsed": false
   },
   "outputs": [
    {
     "name": "stdout",
     "output_type": "stream",
     "text": [
      "Run  10 ; Log-likelihood is  -549319.831944\n",
      "Run  20 ; Log-likelihood is  -549210.453614\n",
      "Run  30 ; Log-likelihood is  -549151.96034\n",
      "Run  40 ; Log-likelihood is  -549142.770323\n",
      "Run  50 ; Log-likelihood is  -549142.459482\n",
      "Run  10 ; Log-likelihood is  -550365.448599\n",
      "Run  20 ; Log-likelihood is  -550267.438505\n",
      "-549142.45948 -550267.302657\n"
     ]
    }
   ],
   "source": [
    "n = 3000\n",
    "choice=np.random.choice(np.arange(0,subset_binary.shape[0],1),size=n, replace=True)\n",
    "sample_subset_binary = subset_binary[choice]\n",
    "sample_subset_labels = subset_labels[choice]\n",
    "true_pi = np.array([sum(sample_subset_labels == 2), sum(sample_subset_labels == 3), sum(sample_subset_labels  == 4)])/ sample_subset_labels.shape[0]\n",
    "\n",
    "pi_out, mu_out, gamma_out, LL_out, iterations = EM(batch = sample_subset_binary, K = 3, max_iter = 1000)\n",
    "pi_out_ini, mu_out_ini, gamma_out_ini, LL_out_ini, iterations_ini = EM_ini(batch = sample_subset_binary, K = 3, max_iter = 1000, pis = true_pi)\n"
   ]
  },
  {
   "cell_type": "code",
   "execution_count": 63,
   "metadata": {
    "collapsed": false
   },
   "outputs": [
    {
     "name": "stdout",
     "output_type": "stream",
     "text": [
      "True mixture proportions:  [ 0.33466667  0.31166667  0.35366667]\n",
      "Log-likelihood with 1/K initialization:  -549142.45948\n",
      "Log-likelihood with 1/K initialization:  -550267.302657\n"
     ]
    }
   ],
   "source": [
    "print(\"True mixture proportions: \", true_pi)\n",
    "print(\"Log-likelihood with 1/K initialization: \", LL_out)\n",
    "print(\"Log-likelihood with 1/K initialization: \", LL_out_ini)"
   ]
  },
  {
   "cell_type": "code",
   "execution_count": 61,
   "metadata": {
    "collapsed": false
   },
   "outputs": [
    {
     "name": "stdout",
     "output_type": "stream",
     "text": [
      "With 1/K initialization\n"
     ]
    },
    {
     "data": {
      "image/png": "[encoded data removed]",
      "text/plain": [
       "<matplotlib.figure.Figure at 0xfa68278>"
      ]
     },
     "metadata": {},
     "output_type": "display_data"
    },
    {
     "name": "stdout",
     "output_type": "stream",
     "text": [
      "With true pi initialization\n"
     ]
    },
    {
     "data": {
      "image/png": "[encoded data removed]",
      "text/plain": [
       "<matplotlib.figure.Figure at 0xfa75c88>"
      ]
     },
     "metadata": {},
     "output_type": "display_data"
    }
   ],
   "source": [
    "print(\"With 1/K initialization\")\n",
    "plot_digits(mu_out, numcols=3)\n",
    "print(\"With true pi initialization\")\n",
    "plot_digits(mu_out_ini, numcols=3)\n",
    "#\n",
    "max_z = np.argmax(gamma_out,1) \n",
    "max_z_ini = np.argmax(gamma_out_ini,1) "
   ]
  },
  {
   "cell_type": "code",
   "execution_count": 59,
   "metadata": {
    "collapsed": false
   },
   "outputs": [],
   "source": [
    "# Has to be coded manually depending on outcome of EM\n",
    "def mapping(i):\n",
    "    if i == 0:\n",
    "        return 4\n",
    "    elif i == 1:\n",
    "        return 2\n",
    "    elif i == 2:\n",
    "        return 3\n",
    "    return i\n",
    "\n",
    "rec_max_z = np.zeros(n)\n",
    "for i in range(n):\n",
    "    rec_max_z[i] = mapping(max_z[i])\n",
    "\n",
    "# Has to be coded manually depending on outcome of EM\n",
    "def mapping(i):\n",
    "    if i == 0:\n",
    "        return 3\n",
    "    elif i == 1:\n",
    "        return 4\n",
    "    elif i == 2:\n",
    "        return 2\n",
    "    return i\n",
    "\n",
    "rec_max_z_ini = np.zeros(n)\n",
    "for i in range(n):\n",
    "    rec_max_z_ini[i] = mapping(max_z_ini[i])\n"
   ]
  },
  {
   "cell_type": "code",
   "execution_count": 60,
   "metadata": {
    "collapsed": false
   },
   "outputs": [
    {
     "name": "stdout",
     "output_type": "stream",
     "text": [
      "Misclassification with 1/K initialization:  0.141333333333\n",
      "Misclassification with true pi initialization:  0.124333333333\n"
     ]
    }
   ],
   "source": [
    "mis_clas = rec_max_z != sample_subset_labels\n",
    "mis_clas_ini = rec_max_z_ini != sample_subset_labels\n",
    "print (\"Misclassification with 1/K initialization: \", sum(mis_clas)/n, )  #misclssification rates\n",
    "print (\"Misclassification with true pi initialization: \", sum(mis_clas_ini)/n, )  #misclssification rates"
   ]
  },
  {
   "cell_type": "markdown",
   "metadata": {},
   "source": [
    "### 1.4 Relation to Variational Inference (5)\n",
    "Propose how you would alter the Bernoulli mixture model for use with a variational method (Bishop Ch.$10$). \n",
    "\n",
    "Which priors would you use and why? "
   ]
  },
  {
   "cell_type": "markdown",
   "metadata": {},
   "source": [
    "** Answer: ** In variational inference, which means a full Bayesian treatment of the Bernoulli Mixture model, the parmeters $\\mu$ and $\\pi$, which are assumed to be deterministic in the maximum likelihood approach, receive prior distirbutions. The most useful are conjugate priors. As $\\mu$ are the parameters of a (multivariate) Bernoulli distribution, the conjugate prior is the beta distribution. The prior for the mixture parameters $\\pi$ is usefully chosen as the Dirichlet distribution, which is the conjugate prior to a multinomial distribution.\n",
    "\n"
   ]
  },
  {
   "cell_type": "markdown",
   "metadata": {},
   "source": [
    "## Part 2: Variational Auto-Encoder\n",
    "A Variational Auto-Encoder (VAE) is a probabilistic model $p(\\bx, \\bz)$ over observed variables $\\bx$ and latent variables and/or parameters $\\bz$. Here we distinguish the decoder part, $p(\\bx | \\bz) p(\\bz)$ and an encoder part, that are both specified with a neural network. A lower bound on the log marginal likelihood $\\log p(\\bx)$ can be obtained by approximately inferring the latent variables z from the observed data x using an encoder distribution $q(\\bz| \\bx)$ that is also specified as a neural network. This lower bound is then optimized to fit the model to the data. \n",
    "\n",
    "More information can be found here:\n",
    "* Original paper by Kingma (2014) https://arxiv.org/pdf/1312.6114.pdf \n",
    "* Nice but large summary (2016) https://arxiv.org/pdf/1606.05908.pdf\n",
    "* One of _many_ online Tutorials, i.e. https://jaan.io/what-is-variational-autoencoder-vae-tutorial or http://kvfrans.com/variational-autoencoders-explained"
   ]
  },
  {
   "cell_type": "markdown",
   "metadata": {
    "collapsed": true
   },
   "source": [
    "### 2.1 The q-distribution (5 points)\n",
    "\n",
    "In variational inference, we introduce distribution $q(\\theta)$ over parameters / latent variables in order to make inference tractable. We can think of $q$ as being an approximation of a certain distribution. What function does $q$ approximate, $p(\\bx|\\theta)$, $p(\\theta|\\bx)$, $p(\\bx, \\theta)$, $p(\\theta)$, or $p(\\bx)$, and how do you see that from the equation $\\ln p(\\bx) = \\mathcal{L}(q) + \\mathrm{KL}(q||p)$? \n"
   ]
  },
  {
   "cell_type": "markdown",
   "metadata": {},
   "source": [
    "** Answer: ** The function $q(\\theta)$ approximates $p(\\theta|\\bx)$. Actually, it is not directly visible from the function given. Rather we first have to extend it a bit like:\n",
    "\n",
    "$\\ln p(\\bx) = \\mathcal{L}(q(\\theta)) + \\mathrm{KL} \\big(q(\\theta)||p(\\theta|\\bx) \\big)$\n",
    "\n",
    "where\n",
    "\n",
    "$\\mathcal{L}(q(\\theta)) = \\int q(\\theta) \\ln \\frac{p(\\theta | \\bx) p(\\bx) }{q(\\theta)} d\\theta$ \n",
    "\n",
    "Proof: \n",
    "\n",
    "$\\mathcal{L}(q(\\theta)) + \\mathrm{KL} \\big(q(\\theta)||p(\\theta|\\bx) \\big) = \\int q(\\theta) \\ln \\frac{p(\\theta | \\bx) p(\\bx) }{q(\\theta)}  d\\theta + \\int q(\\theta) \\ln \\frac{q(\\theta)}{p(\\theta|x)} d\\theta= \\int q(\\theta) \\big[ \\ln p(\\theta | \\bx) p(\\bx) - \\ln q(\\theta) + \\ln q(\\theta) - \\ln p(\\theta|\\bx) \\big] d\\theta = \\ln p(\\bx) \\int q(\\theta) d\\theta = \\ln p(\\bx) $\n",
    "\n",
    "As $\\mathrm{KL} \\big(q(\\theta)||p(\\theta|\\bx) \\big) \\ge 0$ it can be seen that $p(\\bx) =  \\mathcal{L}(q(\\theta))$ if and only if the equality holds and else $p(\\bx) \\ge  \\mathcal{L}(q(\\theta))$, so that $ \\mathcal{L}(q(\\theta))$ is a lower bound. By changing $q(\\theta)$ we may move the lower bound closer to $\\ln p(\\bx)$ but only if the approximation is \"exact\", the equality holds. Using $q(\\theta)$ is necessary when no closed form expressions for $p(\\theta|\\bx)$ exist so that the integral \n",
    "\n",
    "$p(\\bx) = \\int p(\\theta|\\bx) p(\\bx) d\\theta$\n",
    "\n",
    "cannot be easily evaluated. Obviously $p(\\theta|\\bx)$ is also relevant in its own right as it gives the posterior probability of the latent variable and parameters. "
   ]
  },
  {
   "cell_type": "markdown",
   "metadata": {},
   "source": [
    "### 2.2 Implementation (20 points)\n",
    "Above is a version of a Variational Auto-Encoder that uses PyTorch (http://pytorch.org/). PyTorch is python package that is  particularly suited for high level programming of neural net, and is easily installable by following the instructions on their website.\n",
    "\n",
    "Add comments to the code below, where each ```COMMENT``` line should be replaced with an explanation of the code on the line below it (this may also be one or two words) and specify the encoder and decoder parts. \n",
    "\n",
    "Modify the ```run(...)``` function to visualize each $200$ iterations how the model is improving. Do this by sampling a few values of the latent space $\\bz$ and running those through the decoder. Add a plot of the loss function and show this after convergence. Run the "
   ]
  },
  {
   "cell_type": "code",
   "execution_count": null,
   "metadata": {
    "collapsed": false
   },
   "outputs": [],
   "source": [
    "import torch\n",
    "import torch.nn.functional as nn\n",
    "from torch.autograd import Variable\n",
    "\n",
    "## Set number of samples and number of X variables\n",
    "N_samples, X_dim = mnist_images.shape \n",
    "## Mini batch size\n",
    "mb_size = 64\n",
    "## Fix dimensionality of latent variables (output layer)\n",
    "Z_dim = 100 \n",
    "## Dimensionality of the hidden layer\n",
    "h_dim = 128 \n",
    "## Learning rate for stochastic gradient descent\n",
    "lr = 1e-3\n",
    "\n",
    "## Helper functions.\n",
    "def mnist_mb(mb_size):\n",
    "    \"\"\"Sample batch of size mb_size from training data\"\"\"\n",
    "    yield mnist_images[np.random.choice(N_samples, size=mb_size, replace=True),]\n",
    "def init_weight(size):\n",
    "    return Variable(torch.randn(*size) * (1. / np.sqrt(size[0] / 2.)), requires_grad=True)\n",
    "\n",
    "## Initialize parameters of the encoder\n",
    "Wxh = init_weight(size=[X_dim, h_dim])\n",
    "bxh = Variable(torch.zeros(h_dim), requires_grad=True)\n",
    "Whz_mu = init_weight(size=[h_dim, Z_dim])\n",
    "bhz_mu = Variable(torch.zeros(Z_dim), requires_grad=True)\n",
    "Whz_var = init_weight(size=[h_dim, Z_dim])\n",
    "bhz_var = Variable(torch.zeros(Z_dim), requires_grad=True)\n",
    "\n",
    "## Encoder neural network, Q(Z|X)=N(z|mu,sigma) function\n",
    "def Q(X):\n",
    "    h = nn.relu(X.mm(Wxh) + bxh.repeat(X.size(0), 1))\n",
    "    z_mu = h.mm(Whz_mu) + bhz_mu.repeat(h.size(0), 1)\n",
    "    z_var = h.mm(Whz_var) + bhz_var.repeat(h.size(0), 1)\n",
    "    return z_mu, z_var\n",
    "\n",
    "## Sample from Z after applying reparameterization trick\n",
    "def sample_z(mu, log_var):\n",
    "    eps = Variable(torch.randn(mb_size, Z_dim))\n",
    "    return mu + torch.exp(log_var / 2) * eps\n",
    "\n",
    "## Initialize parameter of the decoder\n",
    "Wzh = init_weight(size=[Z_dim, h_dim])\n",
    "bzh = Variable(torch.zeros(h_dim), requires_grad=True)\n",
    "Whx = init_weight(size=[h_dim, X_dim])\n",
    "bhx = Variable(torch.zeros(X_dim), requires_grad=True)\n",
    "\n",
    "## Decoder neural network\n",
    "def P(z):\n",
    "    h = nn.relu(z.mm(Wzh) + bzh.repeat(z.size(0), 1))\n",
    "    X = nn.sigmoid(h.mm(Whx) + bhx.repeat(h.size(0), 1))\n",
    "    return X\n",
    "\n",
    "## Initilization for the run and run (controller) function\n",
    "params = [Wxh, bxh, Whz_mu, bhz_mu, Whz_var, bhz_var, Wzh, bzh, Whx, bhx]\n",
    "solver = torch.optim.Adagrad(params, lr=lr)\n",
    "losses = [10**10]\n",
    "\n",
    "\n",
    "def run(num_iter,conv_check):\n",
    "    for iter in range(num_iter):\n",
    "        ## Load data.\n",
    "        X = mnist_mb(mb_size=mb_size).next()\n",
    "        X = Variable(torch.from_numpy(X))\n",
    "\n",
    "        ## Forward propagate through network\n",
    "        ## Encode X using Q network, sample using reparameterization trick, decode sample Z with P network\n",
    "        z_mu, z_var = Q(X)\n",
    "        z = sample_z(z_mu, z_var)\n",
    "        X_sample = P(z)\n",
    "\n",
    "        ## Compute Loss of decoding, cross entropy between decoded data and input data\n",
    "        recon_loss = nn.binary_cross_entropy(X_sample, X, size_average=False) / mb_size\n",
    "        ## Compute KL divergence between Q(Z|X)= N(z|mu,sig) and P(Z) = N(0,1)\n",
    "        kl_loss = torch.mean(0.5 * torch.sum(torch.exp(z_var) + z_mu**2 - 1. - z_var, 1))\n",
    "        \n",
    "        ## Compute total loss and evaluate convergence\n",
    "        loss = recon_loss + kl_loss\n",
    "        losses.append(loss.data.numpy()[0])\n",
    "        if abs(losses[-1] - losses[-2]) < conv_check:\n",
    "            break\n",
    "        \n",
    "        ## Backpropagation error towards input layer (and afterwards update weights in solver.step)\n",
    "        loss.backward()\n",
    "\n",
    "        solver.step()\n",
    "        for p in params:\n",
    "            p.grad.data.zero_()\n",
    "        if(iter % 200 == 0):\n",
    "            samples         = [sample_z(z_mu,z_var) for n in range(5)]\n",
    "            decoded_samples_batch = [P(sam) for sam in samples] \n",
    "            print ('iteration: ', iter)\n",
    "            plot_sam =decoded_samples_batch[0][0:4]\n",
    "            plot_sam2 = plot_sam.data.numpy()\n",
    "            \n",
    "            plot_digits(plot_sam2,2)\n",
    "        \n",
    "        ## Now weights are updated for the mini batch and a new mini batch is chosen for num_iter\n",
    "    return losses"
   ]
  },
  {
   "cell_type": "code",
   "execution_count": null,
   "metadata": {
    "collapsed": true
   },
   "outputs": [],
   "source": [
    "losses =run(1000,0.001)"
   ]
  },
  {
   "cell_type": "code",
   "execution_count": null,
   "metadata": {
    "collapsed": true
   },
   "outputs": [],
   "source": [
    "## Plot of Loss function\n",
    "plt.plot(losses[1:])\n",
    "plt.xlabel('Iteration')\n",
    "plt.ylabel('Total Loss')\n",
    "plt.show"
   ]
  },
  {
   "cell_type": "markdown",
   "metadata": {},
   "source": [
    "### 2.3 Visualize latent space (15)\n",
    "Implement the auto-encoder now with a 2-dimensional latent space, and train again over the MNIST data. Make a visualization of the learned manifold by using a linearly spaced coordinate grid as input for the latent space. \n",
    "\n",
    "Compare your result to Kingma 2014, Appendix A. What are the differences and why?"
   ]
  },
  {
   "cell_type": "code",
   "execution_count": null,
   "metadata": {
    "collapsed": true
   },
   "outputs": [],
   "source": []
  }
 ],
 "metadata": {
  "anaconda-cloud": {},
  "kernelspec": {
   "display_name": "Python [Root]",
   "language": "python",
   "name": "Python [Root]"
  },
  "language_info": {
   "codemirror_mode": {
    "name": "ipython",
    "version": 3
   },
   "file_extension": ".py",
   "mimetype": "text/x-python",
   "name": "python",
   "nbconvert_exporter": "python",
   "pygments_lexer": "ipython3",
   "version": "3.5.2"
  }
 },
 "nbformat": 4,
 "nbformat_minor": 2
}
